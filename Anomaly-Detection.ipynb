{
 "cells": [
  {
   "cell_type": "markdown",
   "metadata": {},
   "source": [
    "<h1 style=\"font-family: Georgia; font-size:3em;color:#2462C0; font-style:bold\">\n",
    "Anomaly Detection\n",
    "</h1><br>\n",
    "<p align='center'>\n",
    "<img src='images/outlier.jpg' height='1000px' width='500px'>\n",
    "</p>"
   ]
  },
  {
   "cell_type": "code",
   "execution_count": 1,
   "metadata": {
    "code_folding": [
     0
    ]
   },
   "outputs": [],
   "source": [
    "# Import libraries\n",
    "import numpy as np\n",
    "from numpy.linalg import pinv, det\n",
    "import pandas as pd\n",
    "import matplotlib.pyplot as plt\n",
    "from scipy.io import loadmat, whosmat\n",
    "import scipy.optimize as opt\n",
    "import seaborn as sns\n",
    "from warnings import filterwarnings\n",
    "\n",
    "%matplotlib inline\n",
    "sns.set_context('notebook')\n",
    "plt.style.use('fivethirtyeight')\n",
    "filterwarnings('ignore')"
   ]
  },
  {
   "cell_type": "markdown",
   "metadata": {},
   "source": [
    "<h2 style=\"font-family: Georgia; font-size:2em;color:purple; font-style:bold\">\n",
    "Functions\n",
    "</h2><br>\n",
    "We'll write here all the functions needed."
   ]
  },
  {
   "cell_type": "code",
   "execution_count": 2,
   "metadata": {
    "code_folding": [
     1,
     46
    ]
   },
   "outputs": [],
   "source": [
    "# Compute guassian distribution fn\n",
    "def gaussian_estimate(X_train, X_val, gaussian_type='univariate'):\n",
    "    '''\n",
    "    parameters\n",
    "    ----------\n",
    "    X_train: array-like\n",
    "        training features matrix m x n that has only normal examples.\n",
    "    X_val: array-like\n",
    "        cross validation features matrix that has anomalous and normal\n",
    "        examples.\n",
    "    gussian_type: str\n",
    "        univariate or multivariate.\n",
    "    \n",
    "    Returns\n",
    "    -------\n",
    "    pdf: array-like\n",
    "        multivariate pdf vector of n x 1\n",
    "    '''\n",
    "    # number of training examples and features\n",
    "    m, n = X_train.shape\n",
    "    # number of cv examples\n",
    "    mval = X_val.shape[0]\n",
    "\n",
    "    # compute mean and covariance matrix\n",
    "    mu = X_train.mean(axis=0)\n",
    "    cov = (1 / (m)) * (X_train - mu).T.dot(X_train - mu)\n",
    "\n",
    "    # convert the covariance matrix to diagonal if it's a univariate\n",
    "    if gaussian_type == 'univariate':\n",
    "        z = np.zeros_like(cov)\n",
    "        np.fill_diagonal(z, np.diagonal(cov))\n",
    "        cov = z\n",
    "\n",
    "    # compute determinant and inverse of covariance matrix\n",
    "    cov_det = det(cov)\n",
    "    cov_inv = pinv(cov)\n",
    "\n",
    "    # compute pdf vector\n",
    "    pdf = ((2 * np.pi) ** (-n / 2)) * (cov_det ** (-0.5)) *\\\n",
    "        np.exp(-0.5 * np.sum(np.multiply((X_val - mu).dot(cov_inv),\n",
    "                                         (X_val - mu)), axis=1))\n",
    "\n",
    "    return pdf\n",
    "\n",
    "\n",
    "# Hyperparameter tuning of epsilon using cv dataset\n",
    "def select_threshold(y_val, p_val):\n",
    "    '''\n",
    "    parameters\n",
    "    ----------\n",
    "    y_val: array-like\n",
    "        label whether a validation example is normal (0) or anomaly (1).\n",
    "    p_val: array-like\n",
    "        pdf for validated examples.\n",
    "    \n",
    "    Returns\n",
    "    -------\n",
    "    eplsion : float\n",
    "        best epsilon value tuned on validation data.\n",
    "    F1_score : float\n",
    "        F1 score using epsilon tuned on validation data.\n",
    "    '''\n",
    "    # initialize epsilon and F1 score values\n",
    "    best_epsilon = 0\n",
    "    best_F1 = 0\n",
    "\n",
    "    # compute stepsize for each iteration\n",
    "    epsilon_stepsize = (p_val.max() - p_val.min()) / 1000\n",
    "\n",
    "    for epsilon in np.arange(p_val.min(), p_val.max(), epsilon_stepsize):\n",
    "        # get predictions vector\n",
    "        pred = ((p_val < epsilon) * 1).reshape(-1, 1)\n",
    "\n",
    "        # compute true positives, false positives, false negatives\n",
    "        tp = np.sum((pred == 1) & (y_val == 1))\n",
    "        fp = np.sum((pred == 1) & (y_val == 0))\n",
    "        fn = np.sum((pred == 0) & (y_val == 1))\n",
    "\n",
    "        # compute precision and recall\n",
    "        precision_ = tp / (tp + fp)\n",
    "        recall_ = tp / (tp + fn)\n",
    "\n",
    "        # compute F1 score\n",
    "        F1 = 2 * ((precision_ * recall_) / (precision_ + recall_))\n",
    "        # if F1 score > best_F1, set best_F1 = F1\n",
    "        if F1 > best_F1:\n",
    "            best_F1 = F1\n",
    "            best_epsilon = epsilon\n",
    "\n",
    "    return best_epsilon, best_F1"
   ]
  },
  {
   "cell_type": "markdown",
   "metadata": {},
   "source": [
    "<h2 style=\"font-family: Georgia; font-size:2em;color:purple; font-style:bold\">\n",
    "Anomaly Detection\n",
    "</h2><br>\n",
    "Anomaly Detection is the identification of examples or events that don't confront to an expected pattern or the majority of examples. Roughly speaking, it's the process of identifying an example that is not *normal (outlier)* given the distribution of the data. **Outlier** is an example that deviates so much from the other examples that arouse suspicions that it was generated by different data generating process. Mainly, such outliers would have a very low probability (on the very end of both left and right tails of the probability density function) that they belong to the same data generating process.\n",
    "\n",
    "The algorithm works as follows:\n",
    "1. Fit a *Gaussian Probability Density Function (PDF)* for each feature in the training dataset.\n",
    "    1. Calculate the mean and the variance of each feature:\n",
    "    $$\\mu_j = \\frac{1}{m}\\sum_{i = 1}^mx_j^i\\\\{}$$\n",
    "    $$\\sigma^2_j = \\frac{1}{m}\\sum_{i = 1}^m(x_j^i - \\mu_j)^2\\\\{}$$\n",
    "    Where $\\mu$ is the mean and $\\sigma^2$ is the variance that controls the shape of the density function.\n",
    "    2. Compute the density function for each feature using the following formula:   \n",
    "$$p(x; \\mu, \\sigma^2) = \\frac{1}{\\sqrt{2\\pi}\\sigma}e^{-\\frac{(x - \\mu)^2}{2\\sigma^2}}\\\\{}$$\n",
    "Since the mean and the variance are sensitive to outliers, we use training dataset that has only normal examples to fit the model and calculate both the mean vector and the covariance matrix.\n",
    "2. Compute the gaussian density by taking the product of all features' density functions.\n",
    "3. If $p(x) < \\epsilon$ then anomaly; otherwise, normal. Epsilon controls how sensitive the detection algorithm is. If $\\epsilon$ is large $\\rightarrow$ flag a lot of the examples as anomalous and that would increase the *False Positives*. However, If $\\epsilon$ is small $\\rightarrow$ very small portion of the examples will be flagged as anomalous and that would increase the *False Negatives*.\n",
    "4. Use *Cross Validation* for tuning the hyper-parameter $\\epsilon$ that yields the best performance metrics value. F1 score is commonly used:\n",
    "$$F_1 = 2 \\frac{precision * recall}{precision + recall}\\\\{}$$\n",
    "Where:$$precision = \\frac{tp}{tp + fp}\\\\{}$$\n",
    "$$recall = \\frac{tp}{tp + fn}\\\\{}$$\n",
    "*tp: True Positive, fp: False Positive, fn: False Negative*.\n",
    "\n",
    "We have two kinds of anomaly detection algorithms:\n",
    "1. **Univariate Gaussian Density Function**\n",
    "$$p(x) = \\prod_{j = 1}^{n}p(x_j; \\mu_j, \\sigma_j^2)\\\\{}$$\n",
    "$$ = p(x_1; \\mu_1, \\sigma_1^2)*p(x_2; \\mu_2, \\sigma_2^2)* ... * p(x_n; \\mu_n, \\sigma_j^n)\\\\{}$$\n",
    "    * It assumes that all features are independent. Therefore, the covariance between all pairs of features is zero.\n",
    "    * It's computationally faster and more efficient.\n",
    "    * Use it if we have very large number of features.\n",
    "    * Make sure to add features manually that captures unusual values for combination of features; such as $x_3 = \\frac {x_2}{x_1}$. Otherwise, the algorithm may fail to detect anomalies that takes values that are considered normal when looked at each feature separately but are unusual when looking at values of all features together such as having high value for feature 2 compared to low value for feature 1.\n",
    "\n",
    "2. **Multivariate Gaussian Density Function**\n",
    "$$p(x) = \\prod_{j = 1}^{n}p(x_j; \\mu_j, \\sigma_j^2)\\\\{}$$\n",
    "$$p(x; \\mu, \\sigma^2) = \\frac{1}{(2\\pi)^{(n / 2)}(\\det\\sum)^{1 / 2}}e^{\\frac{-1}{2}(x - \\mu)^T\\sum^{-1}(x - \\mu)}\\\\{}$$\n",
    "Where $\\sum$ is n x n covariance matrix:\n",
    "$$\\sum = \\begin{bmatrix}\n",
    "\\sigma_1^2&\\sigma_{12}&\\cdots&\\sigma_{1n}\\\\\n",
    "\\sigma_{21}&\\sigma_2^2&\\cdots&0\\\\\n",
    "\\vdots & \\vdots & \\ddots & \\vdots \\\\\n",
    "\\sigma_{n1} & 0 & 0 & \\sigma_n^2\n",
    "\\end{bmatrix}$$\n",
    "Where $\\sigma_{12} = \\sigma_{21}$ is the covariance between features 1&2. Therefore, the covariance matrix is *symmetric positive (semi) definite*.\n",
    "    * Computationally expensive\n",
    "    * Use it when number of examples $\\geq$ 10 times number of features, i.e. $m \\geq 10n$\n",
    "    * If some features are linearly dependent or number of examples is less than number of features $\\rightarrow$ covariance matrix won't be invertible\n",
    "    * No need to add more features to capture unusual values of combination of features because it captures that through covariances of all pairs of features\n",
    "    * Univariate density function can be derived from Multivariate density function where covariance matrix would be a diagonal matrix. Therefore, $\\sigma_{ij} = 0$ for all $i \\neq j$\n",
    "\n",
    "There are some assumptions made implicitly here:\n",
    "- For each feature, $X_i$'s are IID (independently and identically distributed).\n",
    "- Using Central Theorem (CLT): the distribution of sum of iid random variable are approximately normal. Therefore, this would allow us to fit normal distribution that's parameterized by $\\mu$ and $\\sigma^2$.\n",
    "- $\\mu$ and $\\sum$ will be estimated using maximum-likelihood estimation method.\n",
    "\n",
    "When fitting multivariate probability distribution using the above assumptions, we'll use that pdf to estimate the probability that each example from the validation/test set was generated by this pdf. If the probability is smaller that $\\epsilon$, then we believe that such example was generated by different mutlivariate PDF and, therefor, classified as *anomaly* (outlier).\n",
    "\n",
    "In this exercise, we'll implement an anomaly detection algorithm to detect anomalous behavior in server computers. The features measure the throughput (mb/s) and latency (ms) of response of each server. While servers were operating, $m = 307$ examples of how they were behaving were captured. We suspect that the vast majority of them are normal (non-anomalous) examples of the servers operating normally.\n",
    "\n",
    "Let's first load and plot the data:"
   ]
  },
  {
   "cell_type": "code",
   "execution_count": 3,
   "metadata": {
    "code_folding": [
     0
    ]
   },
   "outputs": [
    {
     "data": {
      "image/png": "[encoded data removed]",
      "text/plain": [
       "<Figure size 576x576 with 1 Axes>"
      ]
     },
     "metadata": {
      "needs_background": "light"
     },
     "output_type": "display_data"
    }
   ],
   "source": [
    "# Load data\n",
    "data = loadmat('../data/servers_anomaly_detection.mat')\n",
    "\n",
    "# Training data\n",
    "X = data['X']\n",
    "\n",
    "# Cross validation data\n",
    "X_val = data['Xval']\n",
    "y_val = data['yval']\n",
    "\n",
    "# Plot data\n",
    "fig, ax = plt.subplots(figsize = (8, 8))\n",
    "plt.scatter(X[:, 0], X[:, 1], s = 50, c = 'blue')\n",
    "plt.axis([0, 30, 0, 30])\n",
    "plt.xlabel('Latency (ms)')\n",
    "plt.ylabel('Throughput (mb/s)')\n",
    "plt.gca().set_aspect('equal')\n",
    "# plt.title('Scatter plot of the first dataset');"
   ]
  },
  {
   "cell_type": "code",
   "execution_count": 4,
   "metadata": {},
   "outputs": [
    {
     "data": {
      "text/plain": [
       "<matplotlib.axes._subplots.AxesSubplot at 0x21df3328358>"
      ]
     },
     "execution_count": 4,
     "metadata": {},
     "output_type": "execute_result"
    },
    {
     "data": {
      "image/png": "[encoded data removed]",
      "text/plain": [
       "<Figure size 432x288 with 1 Axes>"
      ]
     },
     "metadata": {
      "needs_background": "light"
     },
     "output_type": "display_data"
    }
   ],
   "source": [
    "# plt.subplots(1, 2, 1)\n",
    "sns.kdeplot(X[:, 0])\n",
    "sns.kdeplot(X[:, 1])"
   ]
  },
  {
   "cell_type": "markdown",
   "metadata": {},
   "source": [
    "Now, we'll first estimate the Gaussian distribution for both the training and cross validation sets. Note that we use training dataset that has ONLY normal examples when computing mean and covariance and then use cross validation that has both normal and anomalous examples to know the best epsilon."
   ]
  },
  {
   "cell_type": "code",
   "execution_count": 7,
   "metadata": {
    "code_folding": [
     0
    ]
   },
   "outputs": [
    {
     "name": "stdout",
     "output_type": "stream",
     "text": [
      "The best epsilon tuned using CV that yielded the bestF1-score 0.875 is: 9.065769728392737e-05.\n"
     ]
    }
   ],
   "source": [
    "# Fit guassian distribution on both training and CV examples\n",
    "ptrain = gaussian_estimate(X, X)\n",
    "pval = gaussian_estimate(X, X_val, gaussian_type='multivariate')\n",
    "\n",
    "# Tune epsilon\n",
    "epsilon, F1 = select_threshold(y_val, pval)\n",
    "print(f'The best epsilon tuned using CV that yielded the best' +\n",
    "      f'F1-score {F1:.3f} is: {epsilon}.')"
   ]
  },
  {
   "cell_type": "markdown",
   "metadata": {},
   "source": [
    "We'll use the value of epsilon that we tuned using CV to see what examples were anomalous based on our algorithm. Below is the scatter plot of the training data where red points are anomalous examples. "
   ]
  },
  {
   "cell_type": "code",
   "execution_count": 8,
   "metadata": {
    "code_folding": [
     0
    ]
   },
   "outputs": [
    {
     "data": {
      "image/png": "[encoded data removed]",
      "text/plain": [
       "<Figure size 720x432 with 1 Axes>"
      ]
     },
     "metadata": {
      "needs_background": "light"
     },
     "output_type": "display_data"
    }
   ],
   "source": [
    "# Get the index of the outlier\n",
    "outliers = np.where(ptrain < epsilon)\n",
    "\n",
    "# Plot data\n",
    "fig, ax = plt.subplots(figsize=(10, 6))\n",
    "plt.scatter(X[:, 0], X[:, 1], s=50, c='blue', label='Normal Examples')\n",
    "plt.scatter(X[outliers[0], 0], X[outliers[0], 1], s=60, c='red', label='Anomalous Examples')\n",
    "plt.axis([0, 30, 0, 30])\n",
    "plt.xlabel('Latency (ms)')\n",
    "plt.ylabel('Throughput (mb/s)')\n",
    "plt.legend(loc='upper right')\n",
    "plt.title('Scatter plot of the training dataset');"
   ]
  },
  {
   "cell_type": "markdown",
   "metadata": {},
   "source": [
    "Finally, we'll try to fit Gaussian distribution on training dataset that has 1000 examples and 11 features. Note that in both examples we used *Multivariate* not *Univariate* Gaussian distribution. "
   ]
  },
  {
   "cell_type": "code",
   "execution_count": 10,
   "metadata": {
    "code_folding": []
   },
   "outputs": [
    {
     "name": "stdout",
     "output_type": "stream",
     "text": [
      "The best epsilon tuned using CV that yielded the bestF1-score {F1:.3f} is: {epsilon}.\n"
     ]
    }
   ],
   "source": [
    "# Load data\n",
    "data = loadmat('../data/ex8data2.mat')\n",
    "\n",
    "# Training data\n",
    "X = data['X']\n",
    "\n",
    "# Cross validation data\n",
    "Xval = data['Xval']\n",
    "yval = data['yval']\n",
    "\n",
    "# Fit guassian distribution on both training and CV examples\n",
    "ptrain = gaussian_estimate(X, X, gaussian_type='multivariate')\n",
    "pval = gaussian_estimate(X, Xval, gaussian_type='multivariate')\n",
    "\n",
    "# Tune epsilon\n",
    "epsilon, F1 = select_threshold(yval, pval)\n",
    "print(f'The best epsilon tuned using CV that yielded the best' + \\\n",
    "      'F1-score {F1:.3f} is: {epsilon}.')"
   ]
  },
  {
   "cell_type": "markdown",
   "metadata": {},
   "source": [
    "Using the best-epsilon value we got above, we can then classify any example as anomaly if $p(x) < \\epsilon$; otherwise, it's normal."
   ]
  },
  {
   "cell_type": "markdown",
   "metadata": {},
   "source": [
    "<h2 style=\"font-family: Georgia; font-size:2em;color:purple; font-style:bold\">\n",
    "Conclusion\n",
    "</h2><br>\n",
    "* The implementation of the variance/covariance in the detection algorithms has $m$ in the denominator not $(m - 1)$ because with large datasets this doesn't make a difference. However, the unbiased estimator of the variance should have $(m - 1)$ in the denominator not $m$.\n",
    "* Anomaly detection vs Supervised learning:\n",
    "    * Use Anomaly Detection when you have large number of negative examples and very small number of positive examples. The reason is because the supervised learning algorithm wouldn't be able to have enough examples to learn about the scene especially if the future anomalies are nothing like training anomalies\n",
    "    * Use Supervised Learning algorithms such as logistic regression if you have enough positive examples that make the learning easy on the algorithm  and probably it would outperform Anomaly Detection algorithms.  \n",
    "* Univariate PDF performs well most of the times compared to Multivariate PDF and scale really well."
   ]
  }
 ],
 "metadata": {
  "kernelspec": {
   "display_name": "Python 3",
   "language": "python",
   "name": "python3"
  },
  "language_info": {
   "codemirror_mode": {
    "name": "ipython",
    "version": 3
   },
   "file_extension": ".py",
   "mimetype": "text/x-python",
   "name": "python",
   "nbconvert_exporter": "python",
   "pygments_lexer": "ipython3",
   "version": "3.6.7"
  }
 },
 "nbformat": 4,
 "nbformat_minor": 2
}
