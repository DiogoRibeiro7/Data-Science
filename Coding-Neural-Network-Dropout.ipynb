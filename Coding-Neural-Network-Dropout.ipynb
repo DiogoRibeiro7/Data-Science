{
 "cells": [
  {
   "cell_type": "markdown",
   "metadata": {},
   "source": [
    "<h1 style=\"font-family: Georgia; font-size:3em;color:#2462C0; font-style:bold\">\n",
    "Dropout\n",
    "</h1><br>"
   ]
  },
  {
   "cell_type": "markdown",
   "metadata": {},
   "source": [
    "<p>\n",
    "<img src=\"posts_images/coding_nn_from_scratch/dropout.png\">\n",
    "</p>\n",
    "**Dropout** is a regularization technique. On each iteration, we randomly shut down some neurons (units) on each layer and don't use those neurons in both forward propagation and back-propagation. Since the units that will be dropped out on each iteration will be random, the learning algorithm will have no idea which neurons will be shut down on every iteration; therefore, force the learning algorithm to spread out the weights and not focus on some specific feattures (units). \n",
    "Moreover, dropout help improving generalization error by:\n",
    "- Since we drop some units on each iteration, this will lead to smaller network which in turns means simpler network (regularization).\n",
    "- Can be seen as an approximation to bagging techniques. Each iteration can be viewed as different model since we're dropping randomly different units on each layer. This means that the error would be the average of errors from all different models (iterations). Therefore, averaging errors from different models especially if those errors are uncorrelated would reduce the overall errors. In the worst case where errors are perfectly correlated, averaging among all models won't help at all; however, we know that in practice errors have some degree of uncorrelation. As result, it will always improve generalization error.\n",
    "\n",
    "We can use different probabilities on each layer; however, the output layer would always have `keep_prob = 1` and the input layer has high `keep_prob` such as 0.9 or 1. If a hidden layer has `keep_prob = 0.8`, this means that; on each iteration, each unit has 80% probablitity of being included and 20% probability of being dropped out.\n",
    "\n",
    "Dropout is used a lot in computer vision problems because we have a lot of features and not a lot of data. Also, features (pixels) next to each other usually don't add a lot of information. Therefore, models always suffer from overfitting.\n",
    "\n",
    "To illustrate how dropout helps us reduce generalization error, we'll use the same dataset we've used in the previous notebooks. The dataset has images for cats and non-cat. We'll try to build a neural network to classify if the image has cat or not. Each image is 64 x 64 pixels on RGB scale. Let's import the data and take a look at the shape as well as a sample of a cat image from the training set."
   ]
  },
  {
   "cell_type": "code",
   "execution_count": 1,
   "metadata": {
    "code_folding": [
     0
    ]
   },
   "outputs": [],
   "source": [
    "# Loading packages\n",
    "import os\n",
    "\n",
    "import h5py\n",
    "import matplotlib.pyplot as plt\n",
    "import numpy as np\n",
    "import seaborn as sns\n",
    "\n",
    "# local modules\n",
    "os.chdir(\"../scripts/\")\n",
    "from coding_neural_network_from_scratch import (initialize_parameters,\n",
    "                                                     linear_activation_forward,\n",
    "                                                     compute_cost,\n",
    "                                                     linear_activation_backward,\n",
    "                                                     update_parameters,\n",
    "                                                     accuracy)\n",
    "\n",
    "%matplotlib inline\n",
    "sns.set_context(\"notebook\")\n",
    "plt.style.use(\"fivethirtyeight\")\n",
    "plt.rcParams['figure.figsize'] = (12, 6)"
   ]
  },
  {
   "cell_type": "code",
   "execution_count": 2,
   "metadata": {
    "code_folding": [
     0
    ]
   },
   "outputs": [
    {
     "name": "stdout",
     "output_type": "stream",
     "text": [
      "Training data dimensions:\n",
      "X's dimension: (12288, 209), Y's dimension: (1, 209)\n",
      "Test data dimensions:\n",
      "X's dimension: (12288, 50), Y's dimension: (1, 50)\n"
     ]
    },
    {
     "data": {
      "image/png": "[encoded data removed]",
      "text/plain": [
       "<Figure size 432x288 with 1 Axes>"
      ]
     },
     "metadata": {
      "needs_background": "light"
     },
     "output_type": "display_data"
    }
   ],
   "source": [
    "# Import training data\n",
    "train_dataset = h5py.File(\"../data/train_catvnoncat.h5\")\n",
    "X_train = np.array(train_dataset[\"train_set_x\"])\n",
    "Y_train = np.array(train_dataset[\"train_set_y\"])\n",
    "\n",
    "# Plot a sample image\n",
    "plt.imshow(X_train[50])\n",
    "plt.axis(\"off\");\n",
    "\n",
    "# Import test data\n",
    "test_dataset = h5py.File(\"../data/test_catvnoncat.h5\")\n",
    "X_test = np.array(test_dataset[\"test_set_x\"])\n",
    "Y_test = np.array(test_dataset[\"test_set_y\"])\n",
    "\n",
    "# Transform data\n",
    "X_train = X_train.reshape(209, -1).T\n",
    "X_train = X_train / 255\n",
    "Y_train = Y_train.reshape(-1, 209)\n",
    "\n",
    "X_test = X_test.reshape(50, -1).T\n",
    "X_test = X_test / 255\n",
    "Y_test = Y_test.reshape(-1, 50)\n",
    "\n",
    "# print the new shape of both training and test datasets\n",
    "print(\"Training data dimensions:\")\n",
    "print(\"X's dimension: {}, Y's dimension: {}\".format(X_train.shape, Y_train.shape))\n",
    "print(\"Test data dimensions:\")\n",
    "print(\"X's dimension: {}, Y's dimension: {}\".format(X_test.shape, Y_test.shape))"
   ]
  },
  {
   "cell_type": "markdown",
   "metadata": {},
   "source": [
    "Now, we'll write the functions needed to apply dropout on both forward propagation and back-propagation. Note that we'll utilize the functions we wrote in previous notebooks such as `initialize_parameters`."
   ]
  },
  {
   "cell_type": "code",
   "execution_count": 3,
   "metadata": {
    "code_folding": [
     0,
     36,
     89,
     147
    ]
   },
   "outputs": [],
   "source": [
    "def drop_out_matrices(layers_dims, m, keep_prob):\n",
    "    \"\"\"\n",
    "    Initializes the dropout matrices that will be used in both forward prop\n",
    "    and back-prop on each layer. We'll use random numbers from uniform\n",
    "    distribution.\n",
    "\n",
    "    Arguments\n",
    "    ---------\n",
    "    layers_dims : list\n",
    "        input size and size of each layer, length: number of layers + 1.\n",
    "    m : int\n",
    "        number of training examples.\n",
    "    keep_prob : list\n",
    "        probabilities of keeping a neuron (unit) active for each layer on each\n",
    "        iteration.\n",
    "\n",
    "    Returns\n",
    "    -------\n",
    "    D : dict\n",
    "        dropout matrices for each layer l. Each dropout matrix on each layer\n",
    "        would have the same dimension as post activation output matrix \"A\".\n",
    "        For example: \"D1\" shape: number of units x number of examples.\n",
    "    \"\"\"\n",
    "    np.random.seed(1)\n",
    "    D = {}\n",
    "    L = len(layers_dims)\n",
    "\n",
    "    for l in range(L):\n",
    "        # initialize the random values for the dropout matrix\n",
    "        D[str(l)] = np.random.rand(layers_dims[l], m)\n",
    "        # Convert it to 0/1 to shut down neurons corresponding to each element\n",
    "        D[str(l)] = D[str(l)] < keep_prob[l]\n",
    "        assert(D[str(l)].shape == (layers_dims[l], m))\n",
    "    return D\n",
    "\n",
    "\n",
    "def L_model_forward(\n",
    "        X, parameters, D, keep_prob, hidden_layers_activation_fn=\"relu\"):\n",
    "    \"\"\"\n",
    "    Computes the output layer through looping over all units in topological\n",
    "    order.\n",
    "\n",
    "    X : 2d-array\n",
    "        input matrix of shape input_size x training_examples.\n",
    "    parameters : dict\n",
    "        contains all the weight matrices and bias vectors for all layers.\n",
    "    D : dict\n",
    "        dropout matrices for each layer l.\n",
    "    keep_prob : list\n",
    "        probabilities of keeping a neuron (unit) active for each layer on each\n",
    "        iteration.\n",
    "    hidden_layers_activation_fn : str\n",
    "        activation function to be used on hidden layers: \"tanh\",\"relu\".\n",
    "\n",
    "\n",
    "    Returns\n",
    "    -------\n",
    "    AL : 2d-array\n",
    "        probability vector of shape 1 x training_examples.\n",
    "    caches : list\n",
    "        that contains L tuples where each layer has: A_prev, W, b, Z.\n",
    "    \"\"\"\n",
    "    A = X                           # since input matrix A0\n",
    "    A = np.multiply(A, D[str(0)])\n",
    "    A /= keep_prob[0]\n",
    "    caches = []                     # initialize the caches list\n",
    "    L = len(parameters) // 2        # number of layer in the network\n",
    "\n",
    "    for l in range(1, L):\n",
    "        A_prev = A\n",
    "        A, cache = linear_activation_forward(\n",
    "            A_prev, parameters[\"W\" + str(l)], parameters[\"b\" + str(l)],\n",
    "            hidden_layers_activation_fn)\n",
    "        # shut down some units\n",
    "        A = np.multiply(A, D[str(l)])\n",
    "        # scale that value of units to keep expected value the same\n",
    "        A /= keep_prob[l]\n",
    "        caches.append(cache)\n",
    "\n",
    "    AL, cache = linear_activation_forward(\n",
    "        A, parameters[\"W\" + str(L)], parameters[\"b\" + str(L)], \"sigmoid\")\n",
    "    AL = np.multiply(AL, D[str(L)])\n",
    "    AL /= keep_prob[L]\n",
    "    caches.append(cache)\n",
    "    assert(AL.shape == (1, X.shape[1]))\n",
    "\n",
    "    return AL, caches\n",
    "\n",
    "\n",
    "def L_model_backward(\n",
    "        AL, Y, caches, D, keep_prob, hidden_layers_activation_fn=\"relu\"):\n",
    "    \"\"\"\n",
    "    Computes the gradient of output layer w.r.t weights, biases, etc. starting\n",
    "    on the output layer in reverse topological order.\n",
    "\n",
    "    Arguments\n",
    "    ---------\n",
    "    AL : 2d-array\n",
    "        probability vector, output of the forward propagation\n",
    "        (L_model_forward()).\n",
    "    y : 2d-array\n",
    "        true \"label\" vector (containing 0 if non-cat, 1 if cat).\n",
    "    caches : list\n",
    "        list of caches for all layers.\n",
    "    D : dict\n",
    "        dropout matrices for each layer l.\n",
    "    keep_prob : list\n",
    "        probabilities of keeping a neuron (unit) active for each layer on each\n",
    "        iteration.\n",
    "    hidden_layers_activation_fn :\n",
    "        activation function used on hidden layers: \"tanh\", \"relu\".\n",
    "\n",
    "    Returns\n",
    "    -------\n",
    "    grads : dict\n",
    "        gradients.\n",
    "    \"\"\"\n",
    "    Y = Y.reshape(AL.shape)\n",
    "    L = len(caches)\n",
    "    grads = {}\n",
    "\n",
    "    # dA for output layer\n",
    "    dAL = np.divide(AL - Y, np.multiply(AL, 1 - AL))\n",
    "    dAL = np.multiply(dAL, D[str(L)])\n",
    "    dAL /= keep_prob[L]\n",
    "\n",
    "    grads[\"dA\" + str(L - 1)], grads[\"dW\" + str(L)], grads[\n",
    "        \"db\" + str(L)] = linear_activation_backward(\n",
    "            dAL, caches[L - 1], \"sigmoid\")\n",
    "    grads[\"dA\" + str(L - 1)] = np.multiply(\n",
    "        grads[\"dA\" + str(L - 1)], D[str(L - 1)])\n",
    "    grads[\"dA\" + str(L - 1)] /= keep_prob[L - 1]\n",
    "\n",
    "    for l in range(L - 1, 0, -1):\n",
    "        current_cache = caches[l - 1]\n",
    "        grads[\"dA\" + str(l - 1)], grads[\"dW\" + str(l)], grads[\n",
    "            \"db\" + str(l)] = linear_activation_backward(\n",
    "                grads[\"dA\" + str(l)], current_cache,\n",
    "                hidden_layers_activation_fn)\n",
    "\n",
    "        grads[\"dA\" + str(l - 1)] = np.multiply(\n",
    "            grads[\"dA\" + str(l - 1)], D[str(l - 1)])\n",
    "        grads[\"dA\" + str(l - 1)] /= keep_prob[l - 1]\n",
    "\n",
    "    return grads\n",
    "\n",
    "\n",
    "def model_with_dropout(\n",
    "        X, Y, layers_dims, keep_prob, learning_rate=0.01, num_iterations=3000,\n",
    "        print_cost=True, hidden_layers_activation_fn=\"relu\"):\n",
    "    \"\"\"\n",
    "    Implements multilayer neural network with dropout using gradient descent as the\n",
    "    learning algorithm.\n",
    "\n",
    "    Arguments\n",
    "    ---------\n",
    "    X : 2d-array\n",
    "        data, shape: number of examples x num_px * num_px * 3.\n",
    "    y : 2d-array\n",
    "        true \"label\" vector, shape: 1 x number of examples.\n",
    "    layers_dims : list\n",
    "        input size and size of each layer, length: number of layers + 1.\n",
    "    keep_prob : list\n",
    "        probabilities of keeping a neuron (unit) active for each layer on each\n",
    "        iteration.\n",
    "    learning_rate : float\n",
    "        learning rate of the gradient descent update rule.\n",
    "    num_iterations : int\n",
    "        number of iterations of the optimization loop.\n",
    "    print_cost : bool\n",
    "        if True, it prints the cost every 100 steps.\n",
    "    hidden_layers_activation_fn : str\n",
    "        activation function to be used on hidden layers: \"tanh\", \"relu\".\n",
    "\n",
    "    Returns\n",
    "    -------\n",
    "    parameters : dict\n",
    "        parameters learnt by the model. They can then be used to predict test\n",
    "        examples.\n",
    "    \"\"\"\n",
    "    # get number of examples\n",
    "    m = X.shape[1]\n",
    "\n",
    "    # to get consistents output\n",
    "    np.random.seed(1)\n",
    "\n",
    "    # initialize parameters\n",
    "    parameters = initialize_parameters(layers_dims)\n",
    "\n",
    "    # intialize cost list\n",
    "    cost_list = []\n",
    "\n",
    "    # implement gradient descent\n",
    "    for i in range(num_iterations):\n",
    "        # Initialize dropout matrices\n",
    "        D = drop_out_matrices(layers_dims, m, keep_prob)\n",
    "\n",
    "        # compute forward propagation\n",
    "        AL, caches = L_model_forward(\n",
    "            X, parameters, D, keep_prob, hidden_layers_activation_fn)\n",
    "\n",
    "        # compute regularized cost\n",
    "        cost = compute_cost(AL, Y)\n",
    "\n",
    "        # compute gradients\n",
    "        grads = L_model_backward(\n",
    "            AL, Y, caches, D, keep_prob, hidden_layers_activation_fn)\n",
    "\n",
    "        # update parameters\n",
    "        parameters = update_parameters(parameters, grads, learning_rate)\n",
    "\n",
    "        # print cost\n",
    "        if (i + 1) % 100 == 0 and print_cost:\n",
    "            print(f\"The cost after {i + 1} iterations : {cost:.4f}.\")\n",
    "        # append cost\n",
    "        if i % 100 == 0:\n",
    "            cost_list.append(cost)\n",
    "\n",
    "    # plot the cost curve\n",
    "    plt.plot(cost_list)\n",
    "    plt.xlabel(\"Iteration (per hundreds)\")\n",
    "    plt.ylabel(\"Cost\")\n",
    "    plt.title(f\"Cost curve for the learning rate = {learning_rate}\")\n",
    "\n",
    "    return parameters"
   ]
  },
  {
   "cell_type": "markdown",
   "metadata": {},
   "source": [
    "Finally, we're ready to build our neural network. First, we'll build one fully connected network without dropout. That is to say, `keep_prob = 1`. Next, we'll build another network where `keep_prob < 1`. Lastly, we'll compare the generalization error of both networks and see how dropout technique can help us in improving our generalization error."
   ]
  },
  {
   "cell_type": "code",
   "execution_count": 4,
   "metadata": {},
   "outputs": [
    {
     "name": "stdout",
     "output_type": "stream",
     "text": [
      "The cost after 100 iterations : 0.6555.\n",
      "The cost after 200 iterations : 0.6468.\n",
      "The cost after 300 iterations : 0.6447.\n",
      "The cost after 400 iterations : 0.6442.\n",
      "The cost after 500 iterations : 0.6440.\n",
      "The cost after 600 iterations : 0.6440.\n",
      "The cost after 700 iterations : 0.6440.\n",
      "The cost after 800 iterations : 0.6440.\n",
      "The cost after 900 iterations : 0.6440.\n",
      "The cost after 1000 iterations : 0.6440.\n",
      "The training accuracy rate: 65.55%.\n",
      "The test accuracy rate: 34.00%.\n"
     ]
    },
    {
     "data": {
      "image/png": "[encoded data removed]",
      "text/plain": [
       "<Figure size 432x288 with 1 Axes>"
      ]
     },
     "metadata": {
      "needs_background": "light"
     },
     "output_type": "display_data"
    }
   ],
   "source": [
    "# setup layers dimensions, number of examples, and keep probabilities list\n",
    "m = X_train.shape[0]\n",
    "keep_prob = [1, 1, 1, 1]\n",
    "layers_dims = [m, 10, 10, 1]\n",
    "\n",
    "# train NN with no dropout\n",
    "parameters = model_with_dropout(X_train, Y_train, layers_dims, keep_prob=keep_prob,\n",
    "                                learning_rate=0.03, num_iterations=1000,\n",
    "                                hidden_layers_activation_fn=\"relu\")\n",
    "\n",
    "# print the test accuracy\n",
    "print(\"The training accuracy rate: {}\".format(accuracy(X_train, parameters, Y_train, \"relu\")[-7:]))\n",
    "print(\"The test accuracy rate: {}\".format(accuracy(X_test, parameters, Y_test, \"relu\")[-7:]))"
   ]
  },
  {
   "cell_type": "code",
   "execution_count": 5,
   "metadata": {},
   "outputs": [
    {
     "name": "stdout",
     "output_type": "stream",
     "text": [
      "The cost after 100 iterations : 0.6555.\n",
      "The cost after 200 iterations : 0.6467.\n",
      "The cost after 300 iterations : 0.6445.\n",
      "The cost after 400 iterations : 0.6437.\n",
      "The cost after 500 iterations : 0.6412.\n",
      "The cost after 600 iterations : 0.6338.\n",
      "The cost after 700 iterations : 0.6108.\n",
      "The cost after 800 iterations : 0.5367.\n",
      "The cost after 900 iterations : 0.4322.\n",
      "The cost after 1000 iterations : 0.3114.\n",
      "The training accuracy rate: 74.16%.\n",
      "The test accuracy rate: 44.00%.\n"
     ]
    },
    {
     "data": {
      "image/png": "[encoded data removed]",
      "text/plain": [
       "<Figure size 432x288 with 1 Axes>"
      ]
     },
     "metadata": {
      "needs_background": "light"
     },
     "output_type": "display_data"
    }
   ],
   "source": [
    "# setup keep probabilities list\n",
    "keep_prob = [1, 0.5, 0.5, 1]\n",
    "\n",
    "# train NN with no dropout\n",
    "parameters = model_with_dropout(X_train, Y_train, layers_dims, keep_prob=keep_prob,\n",
    "                                learning_rate=0.03, num_iterations=1000,\n",
    "                                hidden_layers_activation_fn=\"relu\")\n",
    "\n",
    "# print the test accuracy\n",
    "print(\"The training accuracy rate: {}\".format(accuracy(X_train, parameters, Y_train, \"relu\")[-7:]))\n",
    "print(\"The test accuracy rate: {}\".format(accuracy(X_test, parameters, Y_test, \"relu\")[-7:]))"
   ]
  },
  {
   "cell_type": "markdown",
   "metadata": {},
   "source": [
    "As the results above showed, the network with dropout improved on test accuracy rate by 30%. Note that this is just an illustrative example to show the effectiveness of the dropout technique. We chose an arbitrary probabilities in this example; however, we can tune the dropout probabilities on each layer to yield the best validation loss and accuracy. "
   ]
  },
  {
   "cell_type": "markdown",
   "metadata": {},
   "source": [
    "<h2 style=\"font-family: Georgia; font-size:2em;color:purple; font-style:bold\">\n",
    "Conclusion\n",
    "</h2>"
   ]
  },
  {
   "cell_type": "markdown",
   "metadata": {},
   "source": [
    "Dropout is a very effective regularization technique that is used a lot in *Convolutional Neural Networks*. Below are some takeaways:\n",
    "- Set `keep_prob = 1` when using gradient checking; otherwise, it won't work.\n",
    "- Dropout is used only during training. Don't use it when testing/predicting new examples.\n",
    "- The lowest the `keep_prob` $\\rightarrow$ the simpler the neural network. As `keep_prob` decreases, the bias increases and the variance decreases. Therefore, layers with more neurons are expected to have lower `keep_prob` to avoid overfitting.\n",
    "- It's computationally a cheap way to improve generalization error and help resolve overfitting.\n",
    "- One can tune `keep_prob` to get the best results out of the task at hand."
   ]
  },
  {
   "cell_type": "code",
   "execution_count": null,
   "metadata": {},
   "outputs": [],
   "source": []
  }
 ],
 "metadata": {
  "kernelspec": {
   "display_name": "Python 3",
   "language": "python",
   "name": "python3"
  },
  "language_info": {
   "codemirror_mode": {
    "name": "ipython",
    "version": 3
   },
   "file_extension": ".py",
   "mimetype": "text/x-python",
   "name": "python",
   "nbconvert_exporter": "python",
   "pygments_lexer": "ipython3",
   "version": "3.6.7"
  }
 },
 "nbformat": 4,
 "nbformat_minor": 2
}
