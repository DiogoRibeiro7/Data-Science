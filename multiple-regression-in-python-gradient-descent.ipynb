{
 "cells": [
  {
   "cell_type": "markdown",
   "metadata": {},
   "source": [
    "# Multiple Regression- Gradient Descent\n",
    "\n",
    "As the number of features used in regression increases, the matrix operations required by the closed-form solution become computationaly expensive, if not impossible.\n",
    "\n",
    "<!-- TEASER_END -->\n",
    "\n",
    "In fact, the computational complexity for the closed-from solution is $$O\\left( n^{3}\\right)$$ where *n* is the number of features. In cases with many features, an optimization algorithm is needed instead, and gradient descent is one of the most commonly used.\n",
    "\n",
    "In gradient descent, estimations of coeffients of a model equation are iteratively updated based upon the current gradient of the function, descending a loss function until the gradient is near zero. ![Visualization of gradient descent optimization](/images/gradient.png)\n",
    "\n",
    "For multiple linear regression the cost function is the residual sum of squares (RSS) of the model when applied to the test set.\n",
    "\n",
    "With true outputs **y**, feature coefficient vector **w**(*t*) at iteration *t*, and learning rate *ƞ*, the updated coeffiencents are given by: \n",
    "\n",
    "\n",
    "$$\\mathbf w^{\\left( t+1\\right)}=\\mathbf w^{\\left( t\\right)}-\\eta \\nabla RSS\\left( \\mathbf w^{\\left( t\\right)}\\right)$$ With data by feature matrix **H**, $$\\nabla RSS\\left( \\mathbf w^{\\left( t\\right)}\\right) = \\nabla \\left[\\left( \\mathbf y-\\mathbf H\\mathbf w^{\\left( t\\right)}\\right)^{T}\\left( \\mathbf y - \\mathbf H \\mathbf w^{\\left( t\\right)}\\right)\\right]$$\n",
    "$$ = -2 \\mathbf H^{T}\\left( \\mathbf y - \\mathbf H\\mathbf w^{\\left( t\\right)}\\right)$$\n",
    "This yields the final derivation:\n",
    "$$\\mathbf w^{\\left( t+1\\right)}=\\mathbf w^{\\left( t\\right)}+2\\eta\\left[\\mathbf H^{T}\\left(\\mathbf y - \\mathbf H\\mathbf w^{\\left( t\\right)}\\right)\\right]$$\n",
    "\n",
    "Here is some pseudocode for the algorithm to translate from mathese into codespeak:\n",
    "\n",
    "```\n",
    "\n",
    "initialize coefficients\n",
    "\n",
    "while gradient_magnitude >= tolerance:\n",
    "    for each feature:\n",
    "        updated_feature_coefficient = feature_coefficient - eta*feature_derivative\n",
    "return coefficients\n",
    "```\n",
    "\n",
    "Now for the Python implementation:\n",
    "\n",
    "First import libraries and create functions to make predictions based on the model coefficients and yeild the errors based upon those predictions."
   ]
  },
  {
   "cell_type": "code",
   "execution_count": 1,
   "metadata": {},
   "outputs": [],
   "source": [
    "import math\n",
    "import random\n",
    "import numpy as np\n",
    "\n",
    "def predict_output(feature_matrix, coefficients):\n",
    "    ''' Returns an array of predictions\n",
    "    \n",
    "    inputs - \n",
    "        feature_matrix - 2-D array of dimensions data points by features\n",
    "        coefficients - 1-D array of estimated feature coefficients\n",
    "        \n",
    "    output - 1-D array of predictions\n",
    "    '''\n",
    "    predictions = np.dot(feature_matrix, coefficients)\n",
    "    return predictions"
   ]
  },
  {
   "cell_type": "markdown",
   "metadata": {},
   "source": [
    "Next, a function to compute the partial derivative for each feature:"
   ]
  },
  {
   "cell_type": "code",
   "execution_count": 2,
   "metadata": {},
   "outputs": [],
   "source": [
    "def feature_derivative(errors, feature):\n",
    "    derivative = 2*np.dot(errors, feature)\n",
    "    return(derivative)"
   ]
  },
  {
   "cell_type": "markdown",
   "metadata": {},
   "source": [
    "Now we are ready to write the main function:"
   ]
  },
  {
   "cell_type": "code",
   "execution_count": 8,
   "metadata": {},
   "outputs": [],
   "source": [
    "def gradient_descent_regression(H, y, initial_coefficients, eta, epsilon, max_iterations=10000):\n",
    "    ''' Returns coefficients for multiple linear regression.\n",
    "    \n",
    "    inputs - \n",
    "        H - 2-D array of dimensions data points by features\n",
    "        y - 1-D array of true output\n",
    "        initial_coefficients - 1-D array of initial coefficients\n",
    "        eta - float, the step size eta\n",
    "        epsilon - float, the tolerance at which the algorithm will terminate\n",
    "        max_iterations - int, tells the program when to terminate\n",
    "    \n",
    "    output - 1-D array of estimated coefficients\n",
    "    '''\n",
    "    converged = False\n",
    "    w = initial_coefficients\n",
    "    iteration = 0\n",
    "    while not converged:\n",
    "        if iteration > max_iterations:\n",
    "            print ('Exceeded max iterations\\nCoefficients: ', w)\n",
    "            return w\n",
    "        pred = predict_output(H, w)\n",
    "        residuals = pred-y\n",
    "        gradient_sum_squares = 0\n",
    "        for i in range(len(w)):\n",
    "            partial = feature_derivative(residuals, H[:, i])\n",
    "            gradient_sum_squares += partial**2\n",
    "            w[i] = w[i] - eta*partial\n",
    "        gradient_magnitude = math.sqrt(gradient_sum_squares)\n",
    "        if gradient_magnitude < epsilon:\n",
    "            converged = True\n",
    "        iteration += 1\n",
    "    print (w)\n",
    "    return (w)"
   ]
  },
  {
   "cell_type": "markdown",
   "metadata": {},
   "source": [
    "Let's test it out! I'll use a noisy sine function and try to fit a third degree polynomial."
   ]
  },
  {
   "cell_type": "code",
   "execution_count": 9,
   "metadata": {},
   "outputs": [
    {
     "data": {
      "text/plain": [
       "[<matplotlib.lines.Line2D at 0x2411c4824e0>]"
      ]
     },
     "execution_count": 9,
     "metadata": {},
     "output_type": "execute_result"
    },
    {
     "data": {
      "image/png": "[encoded data removed]",
      "text/plain": [
       "<Figure size 432x288 with 1 Axes>"
      ]
     },
     "metadata": {
      "needs_background": "light"
     },
     "output_type": "display_data"
    }
   ],
   "source": [
    "%matplotlib inline\n",
    "import matplotlib.pyplot as plt\n",
    "random.seed(1)\n",
    "n = 20\n",
    "pts = [x/5. for x in range(n)]\n",
    "X = np.array(pts)\n",
    "y = np.array([math.sin(x) for x in pts]) + [random.gauss(0,1.0/3.0) for i in range(n)]\n",
    "\n",
    "plt.plot(X, y, '*')"
   ]
  },
  {
   "cell_type": "markdown",
   "metadata": {},
   "source": [
    "Now to build the feature matrix with one column for each feature. The regression model will return coefficients **w** that minimize the RSS of the model: $$\\hat {y}_{i}=w_{0}+w_{1}x_{i}+w_{2}x^{2}_{i}+w_{3}x_{i}^{3}$$"
   ]
  },
  {
   "cell_type": "code",
   "execution_count": 10,
   "metadata": {},
   "outputs": [],
   "source": [
    "feature_matrix = np.zeros(n*4)\n",
    "feature_matrix.shape = (n, 4)\n",
    "feature_matrix[:,0] = 1\n",
    "feature_matrix[:,1] = X\n",
    "feature_matrix[:,2] = X**2\n",
    "feature_matrix[:,3] = X**3"
   ]
  },
  {
   "cell_type": "markdown",
   "metadata": {},
   "source": [
    "Now to run the regression. Choosing *ƞ* and *ɛ* is a bit of an art. Choosing a small learning rate will lead to a more precise answer, but if the learning rate is too small, the optimization may take a very long time. Conversely, a larger learning rate will converge faster, but if it's too large, the algorithm may overshoot the minimum and never converge, bouncing around the sides of the bowl into eternity. Setting a max number of iterations will avoid potential infinite loops. \n",
    "\n",
    "A reasonable epsilon depends on how noisy the data is and how flexible the model is. Starting relatively high and stepping down will increase the precision of the model without running into too many iteration overflows.\n",
    "\n",
    "For *ƞ*, there are some interesting techniques for adjusting the parameter as the algorithm approaches the optimal solution. Check out [Adagrad](https://en.wikipedia.org/wiki/Stochastic_gradient_descent#AdaGrad) for an example.\n",
    "\n",
    "Initializing the coefficients can also be done intelligently, but I'll just set them all to 0 here."
   ]
  },
  {
   "cell_type": "code",
   "execution_count": 11,
   "metadata": {},
   "outputs": [
    {
     "name": "stdout",
     "output_type": "stream",
     "text": [
      "[ 0.30764503  0.20667802  0.14696395 -0.07014237]\n"
     ]
    }
   ],
   "source": [
    "initial_coefficients = np.array([0., 0., 0., 0.])\n",
    "coef = gradient_descent_regression(feature_matrix, y, initial_coefficients, 6e-5, 1)"
   ]
  },
  {
   "cell_type": "markdown",
   "metadata": {},
   "source": [
    "Let's see how we did."
   ]
  },
  {
   "cell_type": "code",
   "execution_count": 12,
   "metadata": {
    "scrolled": false
   },
   "outputs": [
    {
     "data": {
      "text/plain": [
       "[<matplotlib.lines.Line2D at 0x2411c4ed828>,\n",
       " <matplotlib.lines.Line2D at 0x2411c4ed978>]"
      ]
     },
     "execution_count": 12,
     "metadata": {},
     "output_type": "execute_result"
    },
    {
     "data": {
      "image/png": "[encoded data removed]",
      "text/plain": [
       "<Figure size 432x288 with 1 Axes>"
      ]
     },
     "metadata": {
      "needs_background": "light"
     },
     "output_type": "display_data"
    }
   ],
   "source": [
    "model_prediction_X = np.array([x/10. for x in range(40)])\n",
    "model_prediction_matrix = np.zeros(40*4)\n",
    "model_prediction_matrix.shape = (40, 4)\n",
    "model_prediction_matrix[:,0] = 1\n",
    "model_prediction_matrix[:,1] = model_prediction_X\n",
    "model_prediction_matrix[:,2] = model_prediction_X**2\n",
    "model_prediction_matrix[:,3] = model_prediction_X**3\n",
    "\n",
    "predictions = predict_output(model_prediction_matrix, coef)\n",
    "\n",
    "plt.plot(X, y, '*', model_prediction_X, predictions, '-')"
   ]
  },
  {
   "cell_type": "markdown",
   "metadata": {},
   "source": [
    "Not too bad. To improve the model, we could try adding or subtracting features, or adding a regularization term to the cost function."
   ]
  }
 ],
 "metadata": {
  "kernelspec": {
   "display_name": "Python 3",
   "language": "python",
   "name": "python3"
  },
  "language_info": {
   "codemirror_mode": {
    "name": "ipython",
    "version": 3
   },
   "file_extension": ".py",
   "mimetype": "text/x-python",
   "name": "python",
   "nbconvert_exporter": "python",
   "pygments_lexer": "ipython3",
   "version": "3.6.7"
  },
  "nikola": {
   "category": "",
   "date": "2016-01-18 17:46:22 UTC+08:00",
   "description": "",
   "link": "",
   "slug": "multiple-regression-in-python-gradient-descent",
   "tags": "python, machine-learning, statistics, regression",
   "title": "Multiple Regression in Python- Gradient Descent",
   "type": "text"
  }
 },
 "nbformat": 4,
 "nbformat_minor": 1
}
